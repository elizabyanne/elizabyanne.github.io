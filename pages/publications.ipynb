{
  "cells": [
    {
      "cell_type": "raw",
      "metadata": {},
      "source": [
        "---\n",
        "title: Publications\n",
        "echo: false\n",
        "section-divs: false\n",
        "keep-md: true\n",
        "---"
      ],
      "id": "f8e66524"
    },
    {
      "cell_type": "code",
      "metadata": {},
      "source": [
        "from utilities import *\n",
        "pub_strs = load_publication_data(\"../publications.yaml\")"
      ],
      "id": "503cf1d5",
      "execution_count": null,
      "outputs": []
    },
    {
      "cell_type": "markdown",
      "metadata": {},
      "source": [
        "*My list of publications is also on [Google Scholar](https://scholar.google.com/citations?user=7xLeZqMAAAAJ).*\n",
        "\n",
        "## Published\n"
      ],
      "id": "33f1e90f"
    },
    {
      "cell_type": "code",
      "metadata": {},
      "source": [
        "#| label: published-year\n",
        "#| output: asis\n",
        "for year in sorted(pub_strs[\"pubs\"], reverse=True):\n",
        "    display(HTML(\n",
        "        \"<ul class='list-group list-group-flush'>\" + '\\n'.join(pub_strs[\"pubs\"][year]) + \"</ul>\"\n",
        "    ))"
      ],
      "id": "published-year",
      "execution_count": null,
      "outputs": []
    },
    {
      "cell_type": "markdown",
      "metadata": {},
      "source": [
        "## Unpublished"
      ],
      "id": "6770fa63"
    },
    {
      "cell_type": "code",
      "metadata": {},
      "source": [
        "if len(pub_strs[\"wps\"]) == 0:\n",
        "    display(HTML(\n",
        "        \"Currently no unpublished work.\"\n",
        "    ))\n",
        "#| label: \"not-published-year\"\n",
        "#| id: \"not-published-year\"\n",
        "#| output: asis\n",
        "for year in sorted(pub_strs[\"wps\"], reverse=True):\n",
        "    display(HTML(\n",
        "        \"<ul class='list-group list-group-flush'>\" + '\\n'.join(pub_strs[\"wps\"][year]) + \"</ul>\"\n",
        "    ))"
      ],
      "id": "e377c3da",
      "execution_count": null,
      "outputs": []
    },
    {
      "cell_type": "markdown",
      "metadata": {},
      "source": [
        "## Theses\n"
      ],
      "id": "cf1f6064"
    },
    {
      "cell_type": "code",
      "metadata": {},
      "source": [
        "#| label: theses-published-year\n",
        "#| output: asis\n",
        "for year in sorted(pub_strs[\"theses\"], reverse=True):\n",
        "    display(HTML(\n",
        "        \"<ul class='list-group list-group-flush'>\" + '\\n'.join(pub_strs[\"theses\"][year]) + \"</ul>\"\n",
        "    ))"
      ],
      "id": "theses-published-year",
      "execution_count": null,
      "outputs": []
    }
  ],
  "metadata": {
    "kernelspec": {
      "display_name": "Python 3",
      "language": "python",
      "name": "python3"
    }
  },
  "nbformat": 4,
  "nbformat_minor": 5
}